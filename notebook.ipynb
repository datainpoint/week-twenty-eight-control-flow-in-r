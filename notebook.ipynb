{
 "cells": [
  {
   "cell_type": "markdown",
   "id": "e323c57a",
   "metadata": {},
   "source": [
    "# 約維安計畫：R 語言的流程控制\n",
    "\n",
    "> 第二十八週\n",
    "\n",
    "[數據交點](https://linktr.ee/datainpoint) | 郭耀仁 <https://linktr.ee/yaojenkuo>\n",
    "\n",
    "![](https://media.giphy.com/media/G2RTqAU1WsT24um7Bp/giphy.gif)\n",
    "\n",
    "來源：<https://media.giphy.com/media/G2RTqAU1WsT24um7Bp/giphy.gif>\n",
    "\n",
    "## 什麼是流程控制\n",
    "\n",
    "多數程式語言都會從程式碼的第一列開始按照列（Row-wise）的順序往下讀取並且執行，但是在某些情況下，我們會希望能在某些程式碼可以依照需求不執行、執行或者執行多次，這時就可以透過流程控制的機制來滿足這些情況。\n",
    "\n",
    "流程控制指的是在程式執行時，能夠依賴條件來決定程式區塊（Code blocks）中的指令、敘述或者函數呼叫的執行次數，在條件為邏輯向量 FALSE 的時候，程式區塊中的程式碼執行次數為 0（不執行）；在條件為邏輯向量 TRUE 的時候，程式區塊中的程式碼執行次數大於等於 1。具體來說，流程控制是一種機制，這個機制能讓一段指令在某些情況下不被執行、在某些情況下被執行一次或者在某些情況下被重複執行，R 語言實現流程控制有三種方式：\n",
    "\n",
    "1. 條件判斷。\n",
    "2. 迴圈。\n",
    "3. 例外處理。\n",
    "\n",
    "其中，條件判斷能夠使用 `if-else if-else` 敘述與邏輯向量完成；迴圈則有兩種選擇，一是使用 `while` 迴圈與邏輯向量，二是使用 `for` 迴圈與資料結構；例外處理能夠使用 `tryCatch()` 函數完成。\n",
    "\n",
    "## 什麼是區塊\n",
    "\n",
    "區塊（Code blocks）指的是將一系列相關的敘述集合在一起的程式碼結構，在 R 語言中，區塊使用一對大括號（A curly-brace pair）將敘述包裝在裡面形成區塊。在前述三種類型的流程控制中，都會利用區塊將敘述依附給條件判斷、迴圈與例外處理，如此一來就能夠在某些情況下讓區塊中的程式不被執行、執行僅一次或執行特定次數。\n",
    "\n",
    "```r\n",
    "function_name <- function() {\n",
    "  # code block attached to a function\n",
    "}\n",
    "if (CONDITION) {\n",
    "  # code block attached to an if statement\n",
    "}\n",
    "while (CONDITION) {\n",
    "  # code block attached to a while loop\n",
    "}\n",
    "for (element in data_structure) {\n",
    "  # code block attached to a for loop\n",
    "}\n",
    "```\n",
    "\n",
    "## 條件判斷\n",
    "\n",
    "條件判斷是依邏輯向量為假 `FALSE` 或真 `TRUE` 時，來決定是否執行一段位於某區塊內的程式，透過 if-else if-else 敘述可以根據指定條件是否成立，決定後續要執行的程式，也可以組合多個 `if-else if-else` 敘述進行更複雜的條件判斷。\n",
    "\n",
    "我們使用保留字 `if` 搭配一個條件形成邏輯向量，就能夠建立一個 `if` 敘述，`if` 敘述能夠讓區塊的執行與否依賴條件的邏輯向量，如果條件為 `TRUE` 則執行依附大括號內的程式區塊；若條件為 `FALSE` 則不執行依附大括號內的程式區塊。\n",
    "\n",
    "```r\n",
    "if (CONDITION) {\n",
    "  # code block attached to an if statement\n",
    "}\n",
    "```\n",
    "\n",
    "`CONDITION` 可以透過關係運算符或者邏輯運算符生成，例如判斷輸入整數是否為正。僅有在輸入為正數時會執行依附大括號內的程式區塊，因此輸入零或負數時函數的輸出皆為 `NULL`。"
   ]
  },
  {
   "cell_type": "code",
   "execution_count": 1,
   "id": "694cd961",
   "metadata": {},
   "outputs": [
    {
     "name": "stdout",
     "output_type": "stream",
     "text": [
      "[1] \"Positive.\"\n",
      "NULL\n",
      "NULL\n"
     ]
    }
   ],
   "source": [
    "is_positive <- function(x) {\n",
    "  if (x > 0) {\n",
    "    return(\"Positive.\")\n",
    "  }\n",
    "}\n",
    "print(is_positive(1))\n",
    "print(is_positive(0))\n",
    "print(is_positive(-1))"
   ]
  },
  {
   "cell_type": "markdown",
   "id": "08fd61e9",
   "metadata": {},
   "source": [
    "我們使用保留字 `if` 與 `else if` 搭配各自的條件建立一個 `if-else if` 敘述，如果 `if` 後面的條件為 `TRUE` 則執行依附其大括號內的程式區塊；若 `if` 後面的條件為 `FALSE` 則跳過該區塊改為檢視 `else if` 後面的條件，如果是 `TRUE` 就執行依附其大括號內的程式區塊；若 `else if` 後面的條件為 `False` 則跳過該區塊。\n",
    "\n",
    "```r\n",
    "if (CONDITION) {\n",
    "  # code block attached to if statement\n",
    "} else if (CONDITION) {\n",
    "  # code block attached to else if statement\n",
    "}\n",
    "```\n",
    "\n",
    "`CONDITION` 可以透過關係運算符或者邏輯運算符生成，例如判斷輸入整數是否為正。這時輸入零或負數時函數的輸出皆為 `\"Nonpositive\"`。"
   ]
  },
  {
   "cell_type": "code",
   "execution_count": 2,
   "id": "228b0955",
   "metadata": {},
   "outputs": [
    {
     "name": "stdout",
     "output_type": "stream",
     "text": [
      "[1] \"Positive.\"\n",
      "[1] \"Nonpositive.\"\n",
      "[1] \"Nonpositive.\"\n"
     ]
    }
   ],
   "source": [
    "is_positive <- function(x) {\n",
    "  if (x > 0) {\n",
    "    return(\"Positive.\")\n",
    "  } else {\n",
    "    return(\"Nonpositive.\")\n",
    "  }\n",
    "}\n",
    "print(is_positive(1))\n",
    "print(is_positive(0))\n",
    "print(is_positive(-1))"
   ]
  },
  {
   "cell_type": "markdown",
   "id": "f9aafbef",
   "metadata": {},
   "source": [
    "我們使用保留字 `if` 、`else` 搭配一個條件建立一個 `if-else` 敘述，如果 `if` 後面的條件為 `TRUE` 則執行依附其大括號內的程式區塊；若 `if` 後面的條件為 `FALSE` 則跳過該區塊改為執行依附 `else` 大括號內的程式區塊。\n",
    "\n",
    "```r\n",
    "if (CONDITION) {\n",
    "  # code block attached to if statement\n",
    "} else {\n",
    "  # code block attached to else statement\n",
    "}\n",
    "```\n",
    "\n",
    "`CONDITION` 可以透過關係運算符或者邏輯運算符生成，例如判斷輸入整數是否為正。"
   ]
  },
  {
   "cell_type": "code",
   "execution_count": 3,
   "id": "975d6de1",
   "metadata": {},
   "outputs": [
    {
     "name": "stdout",
     "output_type": "stream",
     "text": [
      "[1] \"Positive.\"\n",
      "[1] \"Nonpositive.\"\n",
      "[1] \"Nonpositive.\"\n"
     ]
    }
   ],
   "source": [
    "is_positive <- function(x) {\n",
    "  if (x > 0) {\n",
    "    return(\"Positive.\")\n",
    "  } else {\n",
    "    return(\"Nonpositive.\")\n",
    "  }\n",
    "}\n",
    "print(is_positive(1))\n",
    "print(is_positive(0))\n",
    "print(is_positive(-1))"
   ]
  },
  {
   "cell_type": "markdown",
   "id": "0c8dacaf",
   "metadata": {},
   "source": [
    "在前面的例子中，我們可以看到同樣一個「判斷輸入整數是否為正」的函數，可以用不同的條件判斷敘述來實作，那麼在應用情境上，該如何區別與採用？簡單來說，我們可以藉由判斷 `CONDITION` 是否互斥（Mutually exclusive）來決定。這個說法是依據 `if` 敘述、`if-else if` 與 `if-else` 敘述的主要差別，由於 `if-else if` 與 `if-else` 敘述的條件判斷是有先後順序的，當前面 `if` 敘述得到了邏輯 `TRUE`，意味著後續的 `else if` 或 `else` 敘述就無關緊要了。簡單來說，假如條件彼此之間是互斥的，條件判斷怎麼寫大概都沒有問題；但反過來說，假如條件彼此之間是「非互斥」的話，判斷的順序以及 `if` 敘述、`if-else if` 與 `if-else` 敘述就會需要謹慎地選擇。舉例來說，我們依據 <https://en.wikipedia.org/wiki/Body_mass_index> 寫作一個函數 `get_bmi_desc()` 可以根據輸入的 BMI 數值，給予過輕、正常、過重或肥胖的文字輸出，將四個條件寫成互斥的格式：\n",
    "\n",
    "- 過輕：BMI < 18.5\n",
    "- 正常：BMI >= 18.5 and BMI < 25\n",
    "- 過重：BMI >= 25 and BMI < 30\n",
    "- 肥胖：BMI >= 30\n",
    "\n",
    "在條件互斥的狀況下，怎麼寫大概都沒有問題。"
   ]
  },
  {
   "cell_type": "code",
   "execution_count": 4,
   "id": "7bdca389",
   "metadata": {},
   "outputs": [
    {
     "name": "stdout",
     "output_type": "stream",
     "text": [
      "[1] \"過輕\"\n",
      "[1] \"正常\"\n",
      "[1] \"過重\"\n",
      "[1] \"肥胖\"\n"
     ]
    }
   ],
   "source": [
    "get_bmi_desc <- function(bmi) {\n",
    "  if (bmi < 18.5){\n",
    "    bmi_desc <- \"過輕\"\n",
    "  } else if (bmi >= 30) {\n",
    "    bmi_desc <- \"肥胖\"\n",
    "  } else if (bmi >= 25 & bmi < 30) {\n",
    "    bmi_desc <- \"過重\"\n",
    "  } else if (bmi >= 18.5 & bmi < 25) {\n",
    "    bmi_desc <- \"正常\"\n",
    "  } \n",
    "  return(bmi_desc)\n",
    "}   \n",
    "print(get_bmi_desc(17))\n",
    "print(get_bmi_desc(23))\n",
    "print(get_bmi_desc(29))\n",
    "print(get_bmi_desc(31))"
   ]
  },
  {
   "cell_type": "markdown",
   "id": "f63f47ac",
   "metadata": {},
   "source": [
    "但這不表示條件判斷就必須將條件都寫成互斥才可以，在適當順序與敘述安排下，即使非互斥也能達到正確判斷結果。"
   ]
  },
  {
   "cell_type": "code",
   "execution_count": 5,
   "id": "566c84f6",
   "metadata": {},
   "outputs": [
    {
     "name": "stdout",
     "output_type": "stream",
     "text": [
      "[1] \"過輕\"\n",
      "[1] \"正常\"\n",
      "[1] \"過重\"\n",
      "[1] \"肥胖\"\n"
     ]
    }
   ],
   "source": [
    "get_bmi_desc <- function(bmi) {\n",
    "  if (bmi >= 30){\n",
    "    bmi_desc <- \"肥胖\"\n",
    "  } else if (bmi >= 25) {\n",
    "    bmi_desc <- \"過重\"\n",
    "  } else if (bmi >= 18.5) {\n",
    "    bmi_desc <- \"正常\"\n",
    "  } else {\n",
    "    bmi_desc <- \"過輕\"\n",
    "  } \n",
    "  return(bmi_desc)\n",
    "}   \n",
    "print(get_bmi_desc(17))\n",
    "print(get_bmi_desc(23))\n",
    "print(get_bmi_desc(29))\n",
    "print(get_bmi_desc(31))"
   ]
  },
  {
   "cell_type": "markdown",
   "id": "46d7114c",
   "metadata": {},
   "source": [
    "## 迴圈\n",
    "\n",
    "迴圈是常見的流程控制之一，這是一種在區塊中只出現一次、但卻可能被連續執行多次的程式碼結構，區塊中的程式碼會執行特定的次數、執行到特定條件成立時結束或者走訪資料結構中的所有內容，迴圈能夠用開始、結束與間隔三個要素描述。\n",
    "\n",
    "1. start：迴圈的開始。\n",
    "2. stop：迴圈的結束。\n",
    "3. step：迴圈從起始前往終止的方法。\n",
    "\n",
    "我們可以使用保留字 `while` 與條件建立一個 `while` 迴圈區塊，當條件為 `TRUE` 重複執行依附其大括號內的程式區塊。\n",
    "\n",
    "```r\n",
    "i = 0 # start\n",
    "while (CONDITION) { # stop\n",
    "  # code block attached to while statement\n",
    "  i <- i + step\n",
    "}\n",
    "```\n",
    "\n",
    "`CONDITION` 可以透過關係運算符或者邏輯運算符生成，例如印出前 `n` 個奇數。"
   ]
  },
  {
   "cell_type": "code",
   "execution_count": 6,
   "id": "cb07ea0e",
   "metadata": {},
   "outputs": [
    {
     "name": "stdout",
     "output_type": "stream",
     "text": [
      "[1] 1\n",
      "[1] 3\n",
      "[1] 5\n",
      "[1] 7\n",
      "[1] 9\n"
     ]
    }
   ],
   "source": [
    "print_first_n_odds <- function(n) {\n",
    "  i <- 1\n",
    "  odds <- c() # empty vector\n",
    "  while (length(odds) < n) {\n",
    "    print(i)\n",
    "    odds <- c(odds, i)\n",
    "    i <- i + 2\n",
    "  }\n",
    "}\n",
    "print_first_n_odds(5)"
   ]
  },
  {
   "cell_type": "markdown",
   "id": "af2ea66f",
   "metadata": {},
   "source": [
    "我們可以使用保留字 `for` 與資料結構建立一個 `for` 迴圈區塊，依附其大括號內的程式區塊會重複執行，直到一維資料結構的所有元素都被走訪完畢。\n",
    "\n",
    "```r\n",
    "for (element in data_structure) { # start/stop/step\n",
    "  # code block attached to for statement\n",
    "}\n",
    "```\n",
    "\n",
    "一維資料結構被宣告完成的當下，迴圈的三要素就已經描述完畢。\n",
    "\n",
    "1. start 一維資料結構的第一項元素。\n",
    "2. stop 一維資料結構的最後一項元素。\n",
    "3. step 一維資料結構的逗號區隔。\n",
    "\n",
    "例如印出前 n 個奇數。"
   ]
  },
  {
   "cell_type": "code",
   "execution_count": 7,
   "id": "4b3a88b0",
   "metadata": {},
   "outputs": [
    {
     "name": "stdout",
     "output_type": "stream",
     "text": [
      "[1] 1\n",
      "[1] 3\n",
      "[1] 5\n",
      "[1] 7\n",
      "[1] 9\n"
     ]
    }
   ],
   "source": [
    "print_first_n_odds <- function(n) {\n",
    "  vector_to_be_iterated <- seq(from = 1, by = 2, length.out = n)\n",
    "  for (i in vector_to_be_iterated) {\n",
    "    print(i)\n",
    "  }\n",
    "}\n",
    "print_first_n_odds(5)"
   ]
  },
  {
   "cell_type": "markdown",
   "id": "742cdf50",
   "metadata": {},
   "source": [
    "在前面的例子中，我們可以看到同樣一個「印出前 `n` 個奇數」的函數，可以用不同的迴圈類型來實作，那麼在應用情境上，該如何區別與採用？簡單來說，我們可以藉由判斷區塊程式「重複執行的次數是否已知」來決定，已知重複執行次數的情境可以用任意迴圈，未知重複執行次數的情境僅能採用 `while` 迴圈。這個說法是依據 `while` 迴圈與 `for` 迴圈的主要差別，`while` 在重複執行區塊程式的時候，會在 `CONDITION` 為 `FALSE` 的時候終止；而 `for` 在重複執行區塊程式的時候，會在一維資料結構中的元素用罄時候終止。這表示 `while` 迴圈根據一個為邏輯向量的物件決定重複執行程式區塊是否終止；`for` 迴圈則根據一個已知元素數量的資料結構決定重複執行程式區塊是否終止。\n",
    "\n",
    "舉例來說，寫作一段「猜猜猜數字」程式就是一個「未知重複執行次數」的情況，沒有辦法在一開始就得知需要猜多少次才能結束。\n",
    "\n",
    "```r\n",
    "random_integer <- sample.int(100, size = 1)\n",
    "users_guess <- readline()\n",
    "number_of_guess <- 1\n",
    "while (as.integer(users_guess) != random_integer) {\n",
    "  if (as.integer(users_guess) < random_integer) {\n",
    "    print(\"Too small, guess larger!\")\n",
    "  } else if (as.integer(users_guess) > random_integer) {\n",
    "    print(\"Too large, guess smaller!\")\n",
    "  }\n",
    "  users_guess <- readline()\n",
    "  number_of_guess <- number_of_guess + 1\n",
    "}\n",
    "sprintf(\"Correct! You guessed %s times for the answer %s!\", number_of_guess, random_integer)\n",
    "```"
   ]
  },
  {
   "cell_type": "markdown",
   "id": "6c4d6ce1",
   "metadata": {},
   "source": [
    "在 R 語言中所謂的一維資料結構是任意長度的向量（`vector`）、清單（`list`），這些一維資料結構都能夠直接放置在 `for` 迴圈中使用。"
   ]
  },
  {
   "cell_type": "code",
   "execution_count": 8,
   "id": "4142e96e",
   "metadata": {},
   "outputs": [
    {
     "name": "stdout",
     "output_type": "stream",
     "text": [
      "[1] 2\n",
      "[1] 3\n",
      "[1] 5\n",
      "[1] 7\n",
      "[1] 11\n",
      "[1] 2\n",
      "[1] 3\n",
      "[1] 5\n",
      "[1] 7\n",
      "[1] 11\n"
     ]
    }
   ],
   "source": [
    "print_all_elements <- function(x) {\n",
    "  for (element in x) {\n",
    "    print(element)\n",
    "  }\n",
    "}\n",
    "primes_vector <- c(2, 3, 5, 7, 11)\n",
    "primes_list <- list(2, 3, 5, 7, 11)\n",
    "print_all_elements(primes_vector)\n",
    "print_all_elements(primes_list)"
   ]
  },
  {
   "cell_type": "markdown",
   "id": "20932bff",
   "metadata": {},
   "source": [
    "但矩陣（`matrix`）與資料框（`data.frame`）是具有列（rows）與欄（columns）的資料結構，要特別留意是希望走訪列或者欄。"
   ]
  },
  {
   "cell_type": "code",
   "execution_count": 9,
   "id": "29072263",
   "metadata": {},
   "outputs": [
    {
     "name": "stdout",
     "output_type": "stream",
     "text": [
      "[1] 1 2\n",
      "[1] 2 3\n",
      "[1] 3 5\n",
      "[1] 4 7\n",
      "[1]  5 11\n",
      "[1] 1 2 3 4 5\n",
      "[1]  2  3  5  7 11\n",
      "  X1 X2\n",
      "1  1  2\n",
      "  X1 X2\n",
      "2  2  3\n",
      "  X1 X2\n",
      "3  3  5\n",
      "  X1 X2\n",
      "4  4  7\n",
      "  X1 X2\n",
      "5  5 11\n",
      "[1] 1 2 3 4 5\n",
      "[1]  2  3  5  7 11\n"
     ]
    }
   ],
   "source": [
    "primes_matrix <- matrix(c(1:5, c(2, 3, 5, 7, 11)), ncol = 2)\n",
    "primes_dataframe = data.frame(primes_matrix)\n",
    "# Iterating over a matrix's rows\n",
    "for (i in 1:nrow(primes_matrix)) {\n",
    "  print(primes_matrix[i, ])\n",
    "}\n",
    "# Iterating over a matrix's columns\n",
    "for (j in 1:ncol(primes_matrix)) {\n",
    "  print(primes_matrix[, j])\n",
    "}\n",
    "# Iterating over a data.frame's rows\n",
    "for (i in 1:nrow(primes_dataframe)) {\n",
    "  print(primes_dataframe[i, ])\n",
    "}\n",
    "# Iterating over a data.frame's columns\n",
    "for (j in 1:ncol(primes_dataframe)) {\n",
    "  print(primes_dataframe[, j])\n",
    "}"
   ]
  },
  {
   "cell_type": "markdown",
   "id": "e496986e",
   "metadata": {},
   "source": [
    "將流程控制的兩個技巧條件判斷與迴圈合併使用會讓我們的程式撰寫更有彈性，保留字 `break` 能夠讓我們於走訪的過程中在條件為 `TRUE` 的時候終止迴圈，舉例來說當走訪到非數值的時候終止迴圈。"
   ]
  },
  {
   "cell_type": "code",
   "execution_count": 10,
   "id": "168c7926",
   "metadata": {},
   "outputs": [
    {
     "name": "stdout",
     "output_type": "stream",
     "text": [
      "[1] 2\n",
      "[1] 3\n"
     ]
    }
   ],
   "source": [
    "primes <- list(2, 3, \"5\", 7, 11)\n",
    "for (p in primes) {\n",
    "  if (!is.numeric(p)) {\n",
    "      break\n",
    "  }\n",
    "  print(p)\n",
    "}"
   ]
  },
  {
   "cell_type": "markdown",
   "id": "484f69c0",
   "metadata": {},
   "source": [
    "保留字 `next` 能夠讓我們於走訪的過程中在條件為 `TRUE` 的時候略過該元素但是繼續完成迴圈，舉例來說當走訪到非整數的時候略過。"
   ]
  },
  {
   "cell_type": "code",
   "execution_count": 11,
   "id": "fe55542e",
   "metadata": {},
   "outputs": [
    {
     "name": "stdout",
     "output_type": "stream",
     "text": [
      "[1] 2\n",
      "[1] 3\n",
      "[1] 7\n",
      "[1] 11\n"
     ]
    }
   ],
   "source": [
    "primes <- list(2, 3, \"5\", 7, 11)\n",
    "for (p in primes) {\n",
    "  if (!is.numeric(p)) {\n",
    "      next\n",
    "  }\n",
    "  print(p)\n",
    "}"
   ]
  },
  {
   "cell_type": "markdown",
   "id": "a45bd4ce",
   "metadata": {},
   "source": [
    "## 例外處理\n",
    "\n",
    "例外處理指的是針對程式區塊執行時所出現的例外（Exceptions）進行對應的處置，在執行程式區塊時遭遇的例外往往是由於錯誤而引發，包含無效的物件名稱、檔案不存在或型別不正確等，例外處理就是在程式區塊遭遇例外時能夠移交控制權的一種機制。簡單來說，例外處理就像是另一種類型的條件判斷，只不過條件判斷倚賴條件的布林值決定哪個程式區塊要被執行，而例外處理則是依賴程式區塊是否產生了錯誤來決定哪個程式區塊要被執行。我們可以使用函數 `tryCatch()` 處理例外。\n",
    "\n",
    "```r\n",
    "tryCatch(\n",
    "  {#the \"try\" part },\n",
    "  error = function(CONDITION) {\n",
    "    message(CONDITION) # The original error message\n",
    "    # Choose a return value in case of error\n",
    "    return(NA)\n",
    "  },\n",
    "  warning = function(CONDITION) {\n",
    "    message(CONDITION) # The original warning message\n",
    "    # Choose a return value in case of warning\n",
    "    return(NULL)\n",
    "  },\n",
    "  finally = function(CONDITION) {\n",
    "    # Everything that should be executed at the end,\n",
    "    # regardless of success, error, or warning.\n",
    "  }\n",
    ")\n",
    "```\n",
    "\n",
    "例如將輸入的兩數相除，在輸入兩數其中一者為文字時候會產生錯誤。"
   ]
  },
  {
   "cell_type": "code",
   "execution_count": 12,
   "id": "d80a8559",
   "metadata": {},
   "outputs": [
    {
     "ename": "ERROR",
     "evalue": "Error in a/b: non-numeric argument to binary operator\n",
     "output_type": "error",
     "traceback": [
      "Error in a/b: non-numeric argument to binary operator\nTraceback:\n",
      "1. print(divide(55, \"11\"))",
      "2. divide(55, \"11\")"
     ]
    }
   ],
   "source": [
    "divide <- function(a, b) {\n",
    "  return(a/b)\n",
    "}\n",
    "\n",
    "print(divide(55, '11'))"
   ]
  },
  {
   "cell_type": "markdown",
   "id": "f83f0e0c",
   "metadata": {},
   "source": [
    "加入例外處理 `tryCatch()` 函數以及 `error` 參數處理輸入文字時會產生的錯誤。\n",
    "\n",
    "```r\n",
    "# Run in RStudio instead of R notebook\n",
    "divide <- function(a, b) {\n",
    "  out <- tryCatch(\n",
    "    {\n",
    "     a/b\n",
    "    },\n",
    "    error = function(CONDITION) {\n",
    "      message(CONDITION) # The original error message\n",
    "      # Choose a return value in case of error\n",
    "      return(NA)\n",
    "    }\n",
    "  )\n",
    "}\n",
    "print(divide(55, '11'))\n",
    "```"
   ]
  },
  {
   "cell_type": "markdown",
   "id": "aa1e4512",
   "metadata": {},
   "source": [
    "例如將輸入轉換為數值，在輸入文字時候會產生警告、輸出 `NA`。"
   ]
  },
  {
   "cell_type": "code",
   "execution_count": 13,
   "id": "3ebba49e",
   "metadata": {},
   "outputs": [
    {
     "name": "stderr",
     "output_type": "stream",
     "text": [
      "Warning message in print(as.numeric(\"Hello, world!\")):\n",
      "“NAs introduced by coercion”\n"
     ]
    },
    {
     "name": "stdout",
     "output_type": "stream",
     "text": [
      "[1] NA\n"
     ]
    }
   ],
   "source": [
    "print(as.numeric(\"Hello, world!\"))"
   ]
  },
  {
   "cell_type": "markdown",
   "id": "a6d0e53d",
   "metadata": {},
   "source": [
    "加入例外處理 `tryCatch()` 函數以及 `warning` 參數處理輸入文字時會產生的警告、改為輸出 `NULL`。\n",
    "\n",
    "```r\n",
    "# Run in RStudio instead of R notebook\n",
    "as_numeric_try_catch <- function(x) {\n",
    "  out <- tryCatch(\n",
    "    {\n",
    "      as.numeric(x)\n",
    "    },\n",
    "    warning = function(CONDITION) {\n",
    "      message(CONDITION) # The original error message\n",
    "      # Choose a return value in case of error\n",
    "      return(NULL)\n",
    "    }\n",
    "  )\n",
    "}\n",
    "print(as_numeric_try_catch(\"Hello, world!\"))\n",
    "```\n",
    "\n",
    "在暸解 R 語言條件判斷、迴圈與例外處理這三種流程控制的機制之後，本篇文章來到尾聲，希望您也和我一樣期待下一篇文章。\n",
    "\n",
    "## 延伸閱讀\n",
    "\n",
    "1. <https://adv-r.hadley.nz/control-flow.html>\n",
    "2. <https://adv-r.hadley.nz/conditions.html>\n",
    "\n",
    "對於這篇文章有什麼想法呢？喜歡😻、留言🙋‍♂️或者分享🙌"
   ]
  }
 ],
 "metadata": {
  "kernelspec": {
   "display_name": "R",
   "language": "R",
   "name": "ir"
  },
  "language_info": {
   "codemirror_mode": "r",
   "file_extension": ".r",
   "mimetype": "text/x-r-source",
   "name": "R",
   "pygments_lexer": "r",
   "version": "4.1.2"
  }
 },
 "nbformat": 4,
 "nbformat_minor": 5
}
